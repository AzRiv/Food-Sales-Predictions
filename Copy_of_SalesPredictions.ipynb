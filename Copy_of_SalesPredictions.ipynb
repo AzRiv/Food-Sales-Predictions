{
  "nbformat": 4,
  "nbformat_minor": 0,
  "metadata": {
    "colab": {
      "provenance": [],
      "authorship_tag": "ABX9TyPf8yNMvS2tUv6xw0Z1RJoh",
      "include_colab_link": true
    },
    "kernelspec": {
      "name": "python3",
      "display_name": "Python 3"
    },
    "language_info": {
      "name": "python"
    }
  },
  "cells": [
    {
      "cell_type": "markdown",
      "metadata": {
        "id": "view-in-github",
        "colab_type": "text"
      },
      "source": [
        "<a href=\"https://colab.research.google.com/github/AzRiv/Food-Sales-Predictions/blob/Main/Copy_of_SalesPredictions.ipynb\" target=\"_parent\"><img src=\"https://colab.research.google.com/assets/colab-badge.svg\" alt=\"Open In Colab\"/></a>"
      ]
    },
    {
      "cell_type": "code",
      "execution_count": null,
      "metadata": {
        "id": "D3LvjFhHSj_i"
      },
      "outputs": [],
      "source": []
    },
    {
      "cell_type": "markdown",
      "source": [
        "# PROJECT 1, PART 1: Sales Predictions\n",
        "Atira Rivera\n",
        "\n"
      ],
      "metadata": {
        "id": "J4ZBlD4KSqSf"
      }
    },
    {
      "cell_type": "markdown",
      "source": [
        "## Loading Data \n"
      ],
      "metadata": {
        "id": "JZqnectKSwPr"
      }
    },
    {
      "cell_type": "code",
      "source": [],
      "metadata": {
        "id": "TNut8z-hLJoP"
      },
      "execution_count": null,
      "outputs": []
    },
    {
      "cell_type": "markdown",
      "source": [
        "## Data Cleaning"
      ],
      "metadata": {
        "id": "A8OczBrJS0WE"
      }
    },
    {
      "cell_type": "code",
      "source": [],
      "metadata": {
        "id": "qw71T0upLKSS"
      },
      "execution_count": null,
      "outputs": []
    },
    {
      "cell_type": "markdown",
      "source": [
        "## Exploratory Visuals"
      ],
      "metadata": {
        "id": "xVv6wda3S218"
      }
    },
    {
      "cell_type": "code",
      "source": [],
      "metadata": {
        "id": "aowhFYiuLLKm"
      },
      "execution_count": null,
      "outputs": []
    },
    {
      "cell_type": "markdown",
      "source": [
        "## Explanatory Visuals"
      ],
      "metadata": {
        "id": "j4dtXec2S6DV"
      }
    },
    {
      "cell_type": "code",
      "source": [],
      "metadata": {
        "id": "CHlHheRgLLwr"
      },
      "execution_count": null,
      "outputs": []
    }
  ]
}