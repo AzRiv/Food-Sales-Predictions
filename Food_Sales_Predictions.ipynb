{
  "nbformat": 4,
  "nbformat_minor": 0,
  "metadata": {
    "colab": {
      "provenance": [],
      "toc_visible": true,
      "collapsed_sections": []
    },
    "kernelspec": {
      "name": "python3",
      "display_name": "Python 3"
    },
    "language_info": {
      "name": "python"
    }
  },
  "cells": [
    {
      "cell_type": "markdown",
      "source": [
        "H1: Project Title:\n",
        "\n",
        "Atira Rivera "
      ],
      "metadata": {
        "id": "10sfGf3ae8uR"
      }
    },
    {
      "cell_type": "markdown",
      "source": [
        "H2: \"## Loading Data\""
      ],
      "metadata": {
        "id": "PpYV9iKKfV4n"
      }
    },
    {
      "cell_type": "markdown",
      "source": [
        "H2: \"## Data Cleaning\""
      ],
      "metadata": {
        "id": "hb7cxbP_fk4d"
      }
    },
    {
      "cell_type": "markdown",
      "source": [
        "H2: \"## Exploratory Visuals\""
      ],
      "metadata": {
        "id": "su87egqdfsUD"
      }
    },
    {
      "cell_type": "markdown",
      "source": [
        "H2: \"## Explanatory Visuals\""
      ],
      "metadata": {
        "id": "ShcZzYoRfysI"
      }
    }
  ]
}